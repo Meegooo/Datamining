{
 "cells": [
  {
   "cell_type": "markdown",
   "metadata": {
    "pycharm": {
     "name": "#%% md\n"
    }
   },
   "source": [
    "## Поиск частых наборов"
   ]
  },
  {
   "cell_type": "code",
   "execution_count": 1,
   "metadata": {
    "collapsed": true
   },
   "outputs": [],
   "source": [
    "from collections import defaultdict\n",
    "from itertools import combinations\n",
    "import pandas as pd\n",
    "import csv\n",
    "import time\n",
    "from matplotlib import pyplot as plt\n",
    "import numpy as np"
   ]
  },
  {
   "cell_type": "markdown",
   "metadata": {
    "pycharm": {
     "name": "#%% md\n"
    }
   },
   "source": [
    "### Датасеты\n",
    "Для работы используется три датасета.\n",
    "1. [Датасет потребительской корзины #1](https://www.kaggle.com/irfanasrullah/groceries)\n",
    " - 9835 транзакций\n",
    " - 169 уникальных предметов\n",
    " - 4.4 предмета - средняя длина тразакции\n",
    "2. [Датасет потребительской корзины #2](https://www.kaggle.com/heeraldedhia/groceries-dataset)\n",
    " - 3989 транзакций\n",
    " - 167 уникальных предметов\n",
    " - 8.9 предметов - cредняя длина тразакции\n",
    "3. Синтетический датасет [T40I10D100K](http://fimi.uantwerpen.be/data/)\n",
    " - 100000 транзакций\n",
    " - 943 уникальных предмета\n",
    " - 40 предметов - cредняя длина тразакции"
   ]
  },
  {
   "cell_type": "code",
   "execution_count": 2,
   "metadata": {
    "pycharm": {
     "name": "#%%\n"
    }
   },
   "outputs": [
    {
     "name": "stdout",
     "output_type": "stream",
     "text": [
      "Dataset Data1\n",
      "\t9835 transactions\n",
      "\tAverage transaction length: 4.41\n",
      "\tUnique items: 169.00\n",
      "Dataset Data2\n",
      "\t3898 transactions\n",
      "\tAverage transaction length: 8.92\n",
      "\tUnique items: 167.00\n",
      "Dataset Data3\n",
      "\t100000 transactions\n",
      "\tAverage transaction length: 39.61\n",
      "\tUnique items: 942.00\n"
     ]
    }
   ],
   "source": [
    "def load_dataset_1():\n",
    "    df = pd.read_csv('dataset1.csv', delimiter=',')\n",
    "    data = df.iloc[:, 1:].T.apply(lambda x: x.dropna().tolist()).tolist()\n",
    "    data = [frozenset(l) for l in data]\n",
    "    return data\n",
    "\n",
    "def load_dataset_2():\n",
    "    with open('dataset2.csv') as csvfile:\n",
    "        reader = csv.reader(csvfile, delimiter=',')\n",
    "        next(reader) # skip header\n",
    "        data = defaultdict(set)\n",
    "        for row in reader:\n",
    "            data[row[0]].add(row[2])\n",
    "        return [frozenset(items) for _,items in data.items()]\n",
    "\n",
    "def load_dataset_3():\n",
    "    with open('dataset3.txt') as csvfile:\n",
    "        reader = csv.reader(csvfile, delimiter=' ')\n",
    "        output = [frozenset([item for item in items if item != '']) for items in reader]\n",
    "        return output\n",
    "\n",
    "def print_stats(dataset, name):\n",
    "    print(\"Dataset\", name)\n",
    "    print(f\"\\t{len(dataset)} transactions\")\n",
    "    average_items = sum(map(lambda x: len(x), dataset)) / len(dataset)\n",
    "    print(f\"\\tAverage transaction length: {average_items:.2f}\")\n",
    "    unique_count = len({item for transaction in dataset for item in transaction})\n",
    "    print(f\"\\tUnique items: {unique_count:.2f}\")\n",
    "\n",
    "\n",
    "data1 = load_dataset_1()\n",
    "print_stats(data1, \"Data1\")\n",
    "data2 = load_dataset_2()\n",
    "print_stats(data2, \"Data2\")\n",
    "data3 = load_dataset_3()\n",
    "print_stats(data3, \"Data3\")\n"
   ]
  },
  {
   "cell_type": "markdown",
   "metadata": {
    "pycharm": {
     "name": "#%% md\n"
    }
   },
   "source": [
    "Реализации всех алгоритмов на вход принимают датасет и минимальную поддержку [0,1]\n",
    "Возвращают словарь следующего формата:\n",
    "```\n",
    "{\n",
    " length1: [(itemset1, count),\n",
    "           (itemset2, count),\n",
    "           (itemset3, count)],\n",
    " length2: [(itemset4, count),\n",
    "           (itemset5, count)]\n",
    "}\n",
    "```\n",
    "length1, length2, ... - длина набора. Каждой длине соответствует список пар (itemset, count).\n",
    "\n",
    "### Apriori\n",
    "\n",
    "#### Вспомогательные функции:\n",
    "`filter_supports` - возвращает новый сет с удаленными частыми наборами, которые не имеют достаточную поддержку.\n",
    "\n",
    "`generate_nest_sets` - возвращает новые наборы длины `length+1`, где `length` - длина прошлых наборов.\n",
    "\n",
    "`count_sets` - считает, сколько раз заданный набор встречается в заданном датасете."
   ]
  },
  {
   "cell_type": "code",
   "execution_count": 3,
   "metadata": {
    "pycharm": {
     "name": "#%%\n"
    }
   },
   "outputs": [],
   "source": [
    "def apriori(data, minsup):\n",
    "    common_sets = {}\n",
    "    i = 1\n",
    "    C = {frozenset({item}) for sublist in data for item in sublist}\n",
    "    L = filter_supports(data, C, minsup)\n",
    "    while not len(L) == 0:\n",
    "        common_sets[i] = L\n",
    "        i+=1\n",
    "        # Convert list of pairs [(itemset, count)] into two lists ([itemsets], [counts])\n",
    "        itemsets, _ = zip(*L)\n",
    "        C = generate_next_sets(itemsets)\n",
    "        L = filter_supports(data, C, minsup)\n",
    "    return common_sets\n",
    "\n",
    "def filter_supports(data, candidate_sets, minsup):\n",
    "    supports = set()\n",
    "    for candidate in candidate_sets:\n",
    "        c = count_sets(data, candidate)\n",
    "        if c / len(data) >= minsup:\n",
    "            supports.add((candidate, c))\n",
    "    return supports\n",
    "\n",
    "# Generate next sets of length i+1\n",
    "def generate_next_sets(previous_sets):\n",
    "    e = iter(previous_sets).__next__()\n",
    "    length = len(e) + 1 # Length of current set\n",
    "    # New candidates for common set\n",
    "    new_candidates = {i.union(j) for i in previous_sets for j in previous_sets if len(i.union(j)) == length}\n",
    "\n",
    "    new_candidates_copy = new_candidates.copy()\n",
    "    for item in new_candidates:\n",
    "        # Generate all combinations of length i-1 from current candidate\n",
    "        subsets = combinations(item, length-1)\n",
    "        for subset in subsets:\n",
    "            # if the subset is not in previous K-frequent get, then remove the set\n",
    "            if frozenset(subset) not in previous_sets:\n",
    "                new_candidates_copy.remove(item)\n",
    "                break\n",
    "    return new_candidates_copy\n",
    "\n",
    "# Count how many times given set appares in all transactions\n",
    "def count_sets(data, common_set):\n",
    "    return sum(map(lambda x : common_set.issubset(x), data))"
   ]
  },
  {
   "cell_type": "markdown",
   "metadata": {
    "pycharm": {
     "name": "#%% md\n"
    }
   },
   "source": [
    "### ECLAT\n"
   ]
  },
  {
   "cell_type": "code",
   "execution_count": 4,
   "metadata": {
    "pycharm": {
     "name": "#%%\n"
    }
   },
   "outputs": [],
   "source": [
    "def eclat(data, minsup):\n",
    "    common_sets = {}\n",
    "    length = 1\n",
    "    # List of items\n",
    "    C = {frozenset({item}) for sublist in data for item in sublist}\n",
    "    # Dictionary {item: [transactions]}\n",
    "    L = {}\n",
    "    for item in C:\n",
    "        transactions = {idx for idx, t in enumerate(data) if item.issubset(t)}\n",
    "        # Remove rare itemsets\n",
    "        if len(transactions) / len(data) >= minsup:\n",
    "            L[item] = transactions\n",
    "\n",
    "    while not len(L) == 0:\n",
    "        # Save common sets with current length\n",
    "        common_sets[length] = set()\n",
    "        for key, value in L.items():\n",
    "            common_sets[length].add((key, len(value)))\n",
    "        length+=1\n",
    "        #Generate candidate common sets of length+1\n",
    "        C = generate_next_sets(set(L.keys()))\n",
    "        Lnew = {}\n",
    "        for itemset in C:\n",
    "            subsets = combinations(itemset, length-1)\n",
    "            # Calculate transactions that contain current candidate itemset\n",
    "            transactions = None\n",
    "            for subset in subsets:\n",
    "                if transactions is None :\n",
    "                    transactions = L[frozenset(subset)].copy()\n",
    "                else:\n",
    "                    transactions.intersection_update(L[frozenset(subset)])\n",
    "            # If it's common, save\n",
    "            if len(transactions) / len(data) >= minsup:\n",
    "                Lnew[itemset] = transactions\n",
    "        L = Lnew\n",
    "    return common_sets"
   ]
  },
  {
   "cell_type": "markdown",
   "metadata": {
    "pycharm": {
     "name": "#%% md\n"
    }
   },
   "source": [
    "### FP-Growth\n",
    "**`FPNode`** - один узел FP дерева. Содержит в себе:\n",
    "- item - имя предмета (или другой уникальный идентификатор)\n",
    "- count - количество предметов\n",
    "- next - дети текущего узла. Словарь вида `{item: FPNode}`\n",
    "- previous - родитель текущего узла\n",
    "- next_side - указатель на следующий узел этого же предмета.\n",
    "\n",
    "**`RootFPNode`** - Наследуется от FPNode, корень FP дерева.\n",
    "Дополнительно содержит в себе словарь side_nodes вида `{item: (head: [FPNode], tail: [FPNode])`.\n",
    "Для каждого предмета содержит в себе голову и хвост цепочки, состоящей из узлов данного предмета.\n",
    "\n",
    "Метод `insert_transaction` вставляет транзакцию в дерево."
   ]
  },
  {
   "cell_type": "code",
   "execution_count": 5,
   "metadata": {
    "pycharm": {
     "name": "#%%\n"
    }
   },
   "outputs": [],
   "source": [
    "# Node of FP Tree\n",
    "class FPNode:\n",
    "    def __init__(self, item):\n",
    "        self.item = item\n",
    "        self.count = 0\n",
    "        self.next = {} # Children of current node\n",
    "        self.previous = None # Parent of current node\n",
    "        self.next_side = None # Pointer to the next node of same item\n",
    "\n",
    "    # Return child of current node for given item. Create new node if missing\n",
    "    def get_or_create(self, item):\n",
    "        if item not in self.next:\n",
    "            self.next[item] = FPNode(item)\n",
    "            self.next[item].previous = self\n",
    "            return self.next[item], True\n",
    "        else:\n",
    "            return self.next[item], False\n",
    "\n",
    "# Root node. Also contains pointers to the first node of given item\n",
    "class RootFPNode(FPNode):\n",
    "    def __init__(self):\n",
    "        super().__init__(None)\n",
    "        self.side_nodes = {}\n",
    "\n",
    "    def add_side_node(self, node):\n",
    "        # Create new node if not found\n",
    "        if node.item not in self.side_nodes:\n",
    "            self.side_nodes[node.item] = (node, node) # first node is head, last is tail\n",
    "        # Add given node to the end of the chain\n",
    "        else:\n",
    "            head, tail = self.side_nodes[node.item]\n",
    "            tail.next_side = node\n",
    "            self.side_nodes[node.item] = (head, tail.next_side)\n",
    "\n",
    "    # Add transaction. Recursively traverse the tree from top to bottom.\n",
    "    def insert_transaction(self, transaction, count = 1):\n",
    "        current_node = self\n",
    "        for item in transaction:\n",
    "            current_node, created = current_node.get_or_create(item)\n",
    "            current_node.count += count\n",
    "            if created:\n",
    "                self.add_side_node(current_node)\n",
    "\n",
    "# \"List\" that always returns 1.\n",
    "class OneList:\n",
    "    def __getitem__(self, item):\n",
    "        return 1"
   ]
  },
  {
   "cell_type": "markdown",
   "metadata": {
    "pycharm": {
     "name": "#%% md\n"
    }
   },
   "source": [
    "#### Реализация FP-Growth\n",
    "##### build_fp_tree\n",
    "Принимает датасет, минимальную поддержку и количество раз, которая каждая тразнакция встречается.\n",
    "Используется при рекурсивном построении деревьев, по умолчанию 1.\n",
    "\n",
    "Подсчет каждого предмета, сортировка списка предметов и сортировка предметов в транзакции происходят в данном\n",
    "методе перед построением дерева.\n",
    "\n",
    "На выход возвращается указатель на голову дерева, а также список предметов с количеством встреч этих предметов\n",
    "\n",
    "##### fp_conditional_base\n",
    "Строит FP Conditional Base из дерева. На вход принимает голову дерева и список предметов (который вернулся методом\n",
    " `build_fp_tree`).\n",
    "Проходит по списку предметов снизу вверх. Для каждого предмета проходит слева направо по ссылкам `FPNode::next_side`\n",
    "и сохраняет пройденные пути вместе со значением count у листа."
   ]
  },
  {
   "cell_type": "code",
   "execution_count": 6,
   "metadata": {
    "pycharm": {
     "name": "#%%\n"
    }
   },
   "outputs": [],
   "source": [
    "# Build the FP tree\n",
    "def build_fp_tree(data, minsup, frequency = None):\n",
    "    # If no transactions are given, return None\n",
    "    if len(data) == 0:\n",
    "        return None, None\n",
    "    # If frequency list is not given (for first iteration), use OneList\n",
    "    if frequency is None:\n",
    "        frequency = OneList()\n",
    "\n",
    "    # Count items\n",
    "    L = defaultdict(int)\n",
    "    for idx, transaction in enumerate(data):\n",
    "        for item in transaction:\n",
    "            L[item] += frequency[idx]\n",
    "\n",
    "    # Sort items by count (reversing), filter by support\n",
    "    # (map preserves insertion order)\n",
    "    L = {k: counts for k, counts in sorted(L.items(), key=lambda item: item[1], reverse=True) if counts >= minsup}\n",
    "    map_for_sorting_transactions = {item: idx for idx, item in enumerate(L.keys())}\n",
    "\n",
    "    head = RootFPNode()\n",
    "    # Build tree\n",
    "    for idx, transaction in enumerate(data):\n",
    "        # Filter rare items\n",
    "        transaction_sorted = [k for k in transaction if k in map_for_sorting_transactions]\n",
    "        # Sort items in the same order as L\n",
    "        transaction_sorted = sorted(transaction_sorted, key=lambda k: (map_for_sorting_transactions[k]))\n",
    "        if len(transaction_sorted) == 0:\n",
    "            continue\n",
    "        head.insert_transaction(transaction_sorted, frequency[idx])\n",
    "    return head, L # Return order of items for building conditional base and counts for saving support\n",
    "\n",
    "def fp_conditional_base(tree, item_order):\n",
    "    output = {}\n",
    "    # item_order that was returned from build_fp_tree\n",
    "    for item in reversed(item_order.keys()):\n",
    "        head = tree.side_nodes[item][0]\n",
    "        output[item] = []\n",
    "        while True: # \"do-while\"\n",
    "            # Traverse up\n",
    "            current = head\n",
    "            count = current.count\n",
    "            path = []\n",
    "            while current.previous and current.previous != tree: # Go up while we can\n",
    "                current = current.previous\n",
    "                path.append(current.item)\n",
    "            # Save traversed path\n",
    "            if len(path) > 0:\n",
    "                output[item].append((list(reversed(path)), count))\n",
    "            # Traverse to the side\n",
    "            head = head.next_side\n",
    "            if head is None: #exit condition of \"do-while\"\n",
    "                break\n",
    "    return output"
   ]
  },
  {
   "cell_type": "markdown",
   "metadata": {
    "pycharm": {
     "name": "#%% md\n"
    }
   },
   "source": [
    "##### mine_tree\n",
    "Производит поиск частых наборов в дереве.\n",
    "Содержит в себе рекурсивную функцию `mine_tree_internal`, которая принимает текущее дерево, текущий префикс и\n",
    "порядок предметов item_order, возвращенный функцией `build_fp_tree`.\n",
    "\n",
    "Изначально фукнция `mine_tree_internal` вызывается для начального fp дерева и с пустым префиксом. После чего строится\n",
    "conditional base. Далее, итеративно, проходим по всем предметам из `item_order`, создаем копию префикса и добавляем\n",
    "туда текущий предмет. Префикс сохраняем как частый набор.\n",
    "Если в conditional base для текущего предмета есть сохраненные пути, для этих путей строится новое дерево и\n",
    "рекурсивно вызывается функция `mine_tree_inernal` с текущим префиксом и новым деревом.\n"
   ]
  },
  {
   "cell_type": "code",
   "execution_count": 7,
   "metadata": {
    "pycharm": {
     "name": "#%%\n"
    }
   },
   "outputs": [],
   "source": [
    "def mine_tree(tree, item_order, minsup):\n",
    "    frequent_sets = []\n",
    "\n",
    "    def mine_tree_internal(tree, prefix, item_order):\n",
    "        conditional_base = fp_conditional_base(tree, item_order)\n",
    "        for item, counts in item_order.items():\n",
    "            # Add current item to prefix and save it as new common set\n",
    "            new_freq_set = prefix.copy()\n",
    "            new_freq_set.add(item)\n",
    "            frequent_sets.append((new_freq_set, counts))\n",
    "            #If conditional base has for current item has \"transactions\"\n",
    "            if len(conditional_base[item]) > 0:\n",
    "                transactions, frequencies = zip(*(conditional_base[item]))\n",
    "                # Build another tree\n",
    "                conditional_tree, new_order = build_fp_tree(transactions, minsup, frequencies)\n",
    "                # Mine it recursively\n",
    "                mine_tree_internal(conditional_tree, new_freq_set, new_order)\n",
    "    mine_tree_internal(tree, set(), item_order)\n",
    "\n",
    "    return frequent_sets\n",
    "\n",
    "\n",
    "def fp_growth(data, minsup):\n",
    "    # Use item count instead of percentage as support, for convenience\n",
    "    minsup = len(data) * minsup\n",
    "    head, item_order = build_fp_tree(data, minsup)\n",
    "    frequent_sets = mine_tree(head, item_order, minsup)\n",
    "    # Match it with format of other algorithms\n",
    "    output = defaultdict(set)\n",
    "    for s, counts in frequent_sets:\n",
    "        output[len(s)].add((frozenset(s), counts))\n",
    "    return dict(output)\n",
    "\n",
    "\n",
    "\n",
    "dummy_data = [frozenset(('I2', 'I1', 'I5')), frozenset(('I2', 'I4')), frozenset(('I2', 'I3')),\n",
    "              frozenset(('I2', 'I1', 'I4')), frozenset(('I1', 'I3')), frozenset(('I2', 'I3')),\n",
    "              frozenset(('I1', 'I3')), frozenset(('I2', 'I1', 'I3', 'I5')), frozenset(('I2', 'I1', 'I3')),\n",
    "              frozenset(('I6',)) ]\n",
    "\n",
    "# frequent_sets = fp_growth(dummy_data, 0.2)"
   ]
  },
  {
   "cell_type": "markdown",
   "metadata": {
    "pycharm": {
     "name": "#%% md\n"
    }
   },
   "source": [
    "### Поиск ассоциативных правил\n",
    "`find_association_rules` на вход принимает список частых наборов и минимальное значение поддержки.\n",
    "Возвращает список правил в формате `{(antecedent_lengh, consequent_length): {rule1, rule2, ...}}`\n",
    "Для каждого частого набора вызывает функцию `find_rules_internal`.\n",
    "\n",
    "`find_rules_internal` - рекурсивная функция поиска ассоциативных правил для конкретного\n",
    "частого набора. На вход принимает текущий частый набор и текущий антецедент\n",
    "(изначально равен частому набору).\n",
    "Для переданного антецедента генерирует все комбинации длины на 1 меньше (новые антецеденты).\n",
    "Если поддержка получившегося правила больше заданной, сохраняет ее и рекурсивно вызывает `find_rules_internal`\n",
    "\n"
   ]
  },
  {
   "cell_type": "code",
   "execution_count": 8,
   "metadata": {
    "pycharm": {
     "name": "#%%\n"
    }
   },
   "outputs": [],
   "source": [
    "def find_association_rules(frequent_sets, minconf):\n",
    "\n",
    "    output = defaultdict(set)\n",
    "    def find_rules_internal(frequent_set, prefix):\n",
    "        if len(prefix) == 1:\n",
    "            return\n",
    "        antecedents = combinations(prefix, len(prefix)-1)\n",
    "        for antecedent in antecedents:\n",
    "            antecedent = frozenset(antecedent)\n",
    "            consequent = frequent_set.difference(antecedent)\n",
    "            a_len = frequent_sets[len(antecedent)][antecedent]\n",
    "            ac_len = item_count\n",
    "            if ac_len / a_len >= minconf:\n",
    "                output[(len(antecedent), len(consequent))].add((antecedent, consequent))\n",
    "                find_rules_internal(frequent_set, antecedent)\n",
    "\n",
    "    # Reformat\n",
    "    frequent_sets = {length: {l: s for (l, s) in sets} for length, sets in frequent_sets.items()}\n",
    "    for i in range(2, len(frequent_sets)+1):\n",
    "        frequent_sets_of_length = frequent_sets[i]\n",
    "        for frequent_set, item_count in frequent_sets_of_length.items():\n",
    "                find_rules_internal(frequent_set, frequent_set)\n",
    "    return output\n"
   ]
  },
  {
   "cell_type": "markdown",
   "metadata": {},
   "source": [
    "### Пример ассоциативных правил"
   ]
  },
  {
   "cell_type": "code",
   "execution_count": 31,
   "metadata": {
    "pycharm": {
     "name": "#%%\n"
    }
   },
   "outputs": [
    {
     "data": {
      "text/plain": [
       "{(frozenset({'sausage', 'yogurt'}), frozenset({'rolls/buns', 'whole milk'})),\n",
       " (frozenset({'rolls/buns', 'sausage'}),\n",
       "  frozenset({'other vegetables', 'whole milk'})),\n",
       " (frozenset({'sausage', 'yogurt'}),\n",
       "  frozenset({'other vegetables', 'whole milk'})),\n",
       " (frozenset({'bottled water', 'yogurt'}),\n",
       "  frozenset({'other vegetables', 'whole milk'})),\n",
       " (frozenset({'rolls/buns', 'shopping bags'}),\n",
       "  frozenset({'other vegetables', 'whole milk'})),\n",
       " (frozenset({'rolls/buns', 'yogurt'}),\n",
       "  frozenset({'other vegetables', 'whole milk'}))}"
      ]
     },
     "execution_count": 31,
     "metadata": {},
     "output_type": "execute_result"
    }
   ],
   "source": [
    "frequent_sets_2 = fp_growth(data2, 0.02)\n",
    "frequent_sets_3 = fp_growth(data3, 0.02)\n",
    "association_rules = find_association_rules(frequent_sets_2, 0.30)\n",
    "association_rules[(2,2)]"
   ]
  },
  {
   "cell_type": "markdown",
   "metadata": {},
   "source": [
    "### Визуализация результатов\n",
    "Использовался датасет T40I10D100K\n",
    "Значения достоверности от 5% до 100% с шагом 5%.\n",
    "\n",
    "#### Визуализация быстродействия в зависимости от размера достоверности"
   ]
  },
  {
   "cell_type": "code",
   "execution_count": 27,
   "metadata": {
    "pycharm": {
     "name": "#%%\n"
    }
   },
   "outputs": [
    {
     "data": {
      "text/plain": [
       "<matplotlib.legend.Legend at 0x7fd7878eb100>"
      ]
     },
     "execution_count": 27,
     "metadata": {},
     "output_type": "execute_result"
    },
    {
     "data": {
      "image/png": "[encoded data removed]",
      "text/plain": [
       "<Figure size 432x288 with 1 Axes>"
      ]
     },
     "metadata": {
      "needs_background": "light"
     },
     "output_type": "display_data"
    }
   ],
   "source": [
    "times = {}\n",
    "\n",
    "for minsup in range(5, 101, 5):\n",
    "    minsup /= 100\n",
    "    start = time.time()\n",
    "    find_association_rules(frequent_sets_3, minsup)\n",
    "    time_diff = time.time() - start\n",
    "    times[minsup] = time_diff\n",
    "\n",
    "_, ax = plt.subplots()\n",
    "ax.plot(*zip(*times.items()), label='Time')\n",
    "ax.set_ylabel(\"Seconds\")\n",
    "ax.set_xlabel(\"Confidence\")\n",
    "ax.legend()"
   ]
  },
  {
   "cell_type": "markdown",
   "metadata": {},
   "source": [
    "#### Подсчет и визуализация количества правил в зависимости от размера достоверности"
   ]
  },
  {
   "cell_type": "code",
   "execution_count": 28,
   "metadata": {
    "pycharm": {
     "name": "#%%\n"
    }
   },
   "outputs": [
    {
     "data": {
      "text/plain": [
       "<matplotlib.legend.Legend at 0x7fd7875c5af0>"
      ]
     },
     "execution_count": 28,
     "metadata": {},
     "output_type": "execute_result"
    },
    {
     "data": {
      "image/png": "[encoded data removed]",
      "text/plain": [
       "<Figure size 432x288 with 1 Axes>"
      ]
     },
     "metadata": {
      "needs_background": "light"
     },
     "output_type": "display_data"
    }
   ],
   "source": [
    "rules_counts = {}\n",
    "\n",
    "for minsup in range(5, 101, 5):\n",
    "    minsup /= 100\n",
    "    rules = find_association_rules(frequent_sets_3, minsup)\n",
    "    rules_counts[minsup] = sum(map(lambda x: len(x), rules.values()))\n",
    "\n",
    "_, ax = plt.subplots()\n",
    "ax.plot(*zip(*rules_counts.items()), label='Rule count')\n",
    "ax.set_ylabel(\"Count\")\n",
    "ax.set_xlabel(\"Confidence\")\n",
    "ax.legend()"
   ]
  },
  {
   "cell_type": "markdown",
   "metadata": {},
   "source": [
    "#### Подсчет и визуализация максимального количества объектов от размера достоверности"
   ]
  },
  {
   "cell_type": "code",
   "execution_count": 32,
   "metadata": {
    "pycharm": {
     "name": "#%%\n"
    }
   },
   "outputs": [
    {
     "data": {
      "text/plain": [
       "<matplotlib.legend.Legend at 0x7fd746a71e50>"
      ]
     },
     "execution_count": 32,
     "metadata": {},
     "output_type": "execute_result"
    },
    {
     "data": {
      "image/png": "[encoded data removed]",
      "text/plain": [
       "<Figure size 432x288 with 1 Axes>"
      ]
     },
     "metadata": {
      "needs_background": "light"
     },
     "output_type": "display_data"
    }
   ],
   "source": [
    "max_item_counts = {}\n",
    "\n",
    "for minsup in range(5, 101, 5):\n",
    "    minsup /= 100\n",
    "    rules = find_association_rules(frequent_sets_3, minsup)\n",
    "    if len(rules) > 0:\n",
    "        max_item_counts[minsup] = max(map(lambda x: x[0]+x[1], rules.keys()))\n",
    "    else:\n",
    "        max_item_counts[minsup] = 0\n",
    "\n",
    "_, ax = plt.subplots()\n",
    "ax.plot(*zip(*max_item_counts.items()), label='Item count')\n",
    "ax.set_ylabel(\"Max count\")\n",
    "ax.set_xlabel(\"Confidence\")\n",
    "ax.legend()"
   ]
  },
  {
   "cell_type": "markdown",
   "metadata": {
    "pycharm": {
     "name": "#%% md\n"
    }
   },
   "source": [
    "#### Подсчет и визуализация количества правил, содержащих не более 7 элементов в зависимости от размера достоверности\n",
    "\n",
    "Совпадает с общим количеством элементов, так как в датасете нет частых наборов, содержащих более 7 элементов"
   ]
  },
  {
   "cell_type": "code",
   "execution_count": 24,
   "metadata": {
    "pycharm": {
     "name": "#%%\n"
    }
   },
   "outputs": [
    {
     "data": {
      "text/plain": [
       "<matplotlib.legend.Legend at 0x7fd794784670>"
      ]
     },
     "execution_count": 24,
     "metadata": {},
     "output_type": "execute_result"
    },
    {
     "data": {
      "image/png": "[encoded data removed]",
      "text/plain": [
       "<Figure size 432x288 with 1 Axes>"
      ]
     },
     "metadata": {
      "needs_background": "light"
     },
     "output_type": "display_data"
    }
   ],
   "source": [
    "rules_counts = {}\n",
    "\n",
    "for minsup in range(5, 101, 5):\n",
    "    minsup /= 100\n",
    "    rules = find_association_rules(frequent_sets_3, minsup)\n",
    "    rules_counts[minsup] = sum([len(values) for key, values in rules.items() if key[0] + key[1] <= 7])\n",
    "\n",
    "_, ax = plt.subplots()\n",
    "ax.plot(*zip(*rules_counts.items()), label='Rule count')\n",
    "ax.set_ylabel(\"Count\")\n",
    "ax.set_xlabel(\"Confidence\")\n",
    "ax.legend()"
   ]
  }
 ],
 "metadata": {
  "kernelspec": {
   "display_name": "Python 3",
   "language": "python",
   "name": "python3"
  },
  "language_info": {
   "codemirror_mode": {
    "name": "ipython",
    "version": 3
   },
   "file_extension": ".py",
   "mimetype": "text/x-python",
   "name": "python",
   "nbconvert_exporter": "python",
   "pygments_lexer": "ipython3",
   "version": "3.9.2"
  }
 },
 "nbformat": 4,
 "nbformat_minor": 1
}
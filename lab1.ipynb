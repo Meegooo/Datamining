{
 "cells": [
  {
   "cell_type": "markdown",
   "metadata": {
    "pycharm": {
     "name": "#%% md\n"
    }
   },
   "source": [
    "## Поиск частых наборов"
   ]
  },
  {
   "cell_type": "code",
   "execution_count": 69,
   "metadata": {
    "collapsed": true
   },
   "outputs": [],
   "source": [
    "from collections import defaultdict\n",
    "from itertools import combinations\n",
    "import pandas as pd\n",
    "import csv\n",
    "import time\n",
    "from matplotlib import pyplot as plt\n",
    "import numpy as np"
   ]
  },
  {
   "cell_type": "markdown",
   "metadata": {
    "pycharm": {
     "name": "#%% md\n"
    }
   },
   "source": [
    "### Датасеты\n",
    "Для работы используется три датасета.\n",
    "1. [Датасет потребительской корзины #1](https://www.kaggle.com/irfanasrullah/groceries)\n",
    " - 9835 транзакций\n",
    " - 169 уникальных предметов\n",
    " - 4.4 предмета - средняя длина тразакции\n",
    "2. [Датасет потребительской корзины #2](https://www.kaggle.com/heeraldedhia/groceries-dataset)\n",
    " - 3989 транзакций\n",
    " - 167 уникальных предметов\n",
    " - 8.9 предметов - cредняя длина тразакции\n",
    "3. Синтетический датасет [T40I10D100K](http://fimi.uantwerpen.be/data/)\n",
    " - 100000 транзакций\n",
    " - 943 уникальных предмета\n",
    " - 40 предметов - cредняя длина тразакции"
   ]
  },
  {
   "cell_type": "code",
   "execution_count": 43,
   "metadata": {
    "pycharm": {
     "name": "#%%\n"
    }
   },
   "outputs": [
    {
     "name": "stdout",
     "output_type": "stream",
     "text": [
      "Dataset Data1\n",
      "\t9835 transactions\n",
      "\tAverage transaction length: 4.41\n",
      "\tUnique items: 169.00\n",
      "Dataset Data2\n",
      "\t3898 transactions\n",
      "\tAverage transaction length: 8.92\n",
      "\tUnique items: 167.00\n",
      "Dataset Data3\n",
      "\t99999 transactions\n",
      "\tAverage transaction length: 40.61\n",
      "\tUnique items: 943.00\n"
     ]
    }
   ],
   "source": [
    "def load_dataset_1():\n",
    "    df = pd.read_csv('dataset1.csv', delimiter=',')\n",
    "    data = df.iloc[:, 1:].T.apply(lambda x: x.dropna().tolist()).tolist()\n",
    "    data = [frozenset(l) for l in data]\n",
    "    return data\n",
    "\n",
    "def load_dataset_2():\n",
    "    with open('dataset2.csv') as csvfile:\n",
    "        reader = csv.reader(csvfile, delimiter=',', )\n",
    "        next(reader) # skip header\n",
    "        data = defaultdict(set)\n",
    "        for row in reader:\n",
    "            data[row[0]].add(row[2])\n",
    "        return [frozenset(items) for _,items in data.items()]\n",
    "\n",
    "\n",
    "def load_dataset_3():\n",
    "    with open('dataset3.txt') as csvfile:\n",
    "        reader = csv.reader(csvfile, delimiter=' ', )\n",
    "        output = [frozenset([item for item in items if item != '']) for items in reader]\n",
    "        return output\n",
    "\n",
    "def print_stats(dataset, name):\n",
    "    print(\"Dataset\", name)\n",
    "    print(f\"\\t{len(dataset)} transactions\")\n",
    "    average_items = sum(map(lambda x: len(x), dataset)) / len(dataset)\n",
    "    print(f\"\\tAverage transaction length: {average_items:.2f}\")\n",
    "    unique_count = len({item for transaction in dataset for item in transaction})\n",
    "    print(f\"\\tUnique items: {unique_count:.2f}\")\n",
    "\n",
    "\n",
    "data1 = load_dataset_1()\n",
    "print_stats(data1, \"Data1\")\n",
    "data2 = load_dataset_2()\n",
    "print_stats(data2, \"Data2\")\n",
    "data3 = load_dataset_3()\n",
    "print_stats(data3, \"Data3\")\n"
   ]
  },
  {
   "cell_type": "markdown",
   "metadata": {
    "pycharm": {
     "name": "#%% md\n"
    }
   },
   "source": [
    "Реализации всех алгоритмов на вход принимают датасет и минимальную поддержку [0,1]\n",
    "Возвращают словарь следующего формата:\n",
    "```\n",
    "{\n",
    " length1: [(itemset1, count),\n",
    "           (itemset2, count),\n",
    "           (itemset3, count)],\n",
    " length2: [(itemset4, count),\n",
    "           (itemset5, count)]\n",
    "}\n",
    "```\n",
    "length1, length2, ... - длина набора. Каждой длине соответствует список пар (itemset, count).\n",
    "\n",
    "### Apriori\n",
    "\n",
    "#### Вспомогательные функции:\n",
    "`filter_supports` - возвращает новый сет с удаленными частыми наборами, которые не имеют достаточную поддержку.\n",
    "\n",
    "`generate_nest_sets` - возвращает новые наборы длины `length+1`, где `length` - длина прошлых наборов.\n",
    "\n",
    "`count_sets` - считает, сколько раз заданный набор встречается в заданном датасете."
   ]
  },
  {
   "cell_type": "code",
   "execution_count": 89,
   "metadata": {
    "pycharm": {
     "name": "#%%\n"
    }
   },
   "outputs": [],
   "source": [
    "def apriori(data, minsup):\n",
    "    common_sets = {}\n",
    "    i = 1\n",
    "    C = {frozenset({item}) for sublist in data for item in sublist}\n",
    "    L = filter_supports(data, C, minsup)\n",
    "    while not len(L) == 0:\n",
    "        common_sets[i] = L\n",
    "        i+=1\n",
    "        # Convert list of pairs [(itemset, count)] into two lists ([itemsets], [counts])\n",
    "        itemsets, _ = zip(*L)\n",
    "        C = generate_next_sets(itemsets)\n",
    "        L = filter_supports(data, C, minsup)\n",
    "    return common_sets\n",
    "\n",
    "def filter_supports(data, candidate_sets, minsup):\n",
    "    supports = set()\n",
    "    for candidate in candidate_sets:\n",
    "        c = count_sets(data, candidate)\n",
    "        if c / len(data) >= minsup:\n",
    "            supports.add((candidate, c))\n",
    "    return supports\n",
    "\n",
    "# Generate next sets of length i+1\n",
    "def generate_next_sets(previous_sets):\n",
    "    e = iter(previous_sets).__next__()\n",
    "    length = len(e) + 1 # Length of current set\n",
    "    # New candidates for common set\n",
    "    new_candidates = {i.union(j) for i in previous_sets for j in previous_sets if len(i.union(j)) == length}\n",
    "\n",
    "    new_candidates_copy = new_candidates.copy()\n",
    "    for item in new_candidates:\n",
    "        # Generate all combinations of length i-1 from current candidate\n",
    "        subsets = combinations(item, length-1)\n",
    "        for subset in subsets:\n",
    "            # if the subset is not in previous K-frequent get, then remove the set\n",
    "            if frozenset(subset) not in previous_sets:\n",
    "                new_candidates_copy.remove(item)\n",
    "                break\n",
    "    return new_candidates_copy\n",
    "\n",
    "# Count how many times given set appares in all transactions\n",
    "def count_sets(data, common_set):\n",
    "    return sum(map(lambda x : common_set.issubset(x), data))"
   ]
  },
  {
   "cell_type": "markdown",
   "metadata": {
    "pycharm": {
     "name": "#%% md\n"
    }
   },
   "source": [
    "### ECLAT\n"
   ]
  },
  {
   "cell_type": "code",
   "execution_count": 45,
   "metadata": {
    "pycharm": {
     "name": "#%%\n"
    }
   },
   "outputs": [],
   "source": [
    "def eclat(data, minsup):\n",
    "    common_sets = {}\n",
    "    length = 1\n",
    "    # List of items\n",
    "    C = {frozenset({item}) for sublist in data for item in sublist}\n",
    "    # Dictionary {item: [transactions]}\n",
    "    L = {}\n",
    "    for item in C:\n",
    "        transactions = {idx for idx, t in enumerate(data) if item.issubset(t)}\n",
    "        # Remove rare itemsets\n",
    "        if len(transactions) / len(data) >= minsup:\n",
    "            L[item] = transactions\n",
    "\n",
    "    while not len(L) == 0:\n",
    "        # Save common sets with current length\n",
    "        common_sets[length] = set()\n",
    "        for key, value in L.items():\n",
    "            common_sets[length].add((key, len(value)))\n",
    "        length+=1\n",
    "        #Generate candidate common sets of length+1\n",
    "        C = generate_next_sets(set(L.keys()))\n",
    "        Lnew = {}\n",
    "        for itemset in C:\n",
    "            subsets = combinations(itemset, length-1)\n",
    "            # Calculate transactions that contain current candidate itemset\n",
    "            transactions = None\n",
    "            for subset in subsets:\n",
    "                if transactions is None :\n",
    "                    transactions = L[frozenset(subset)].copy()\n",
    "                else:\n",
    "                    transactions.intersection_update(L[frozenset(subset)])\n",
    "            # If it's common, save\n",
    "            if len(transactions) / len(data) >= minsup:\n",
    "                Lnew[itemset] = transactions\n",
    "        L = Lnew\n",
    "    return common_sets"
   ]
  },
  {
   "cell_type": "markdown",
   "metadata": {
    "pycharm": {
     "name": "#%% md\n"
    }
   },
   "source": [
    "### FP-Growth\n",
    "**`FPNode`** - один узел FP дерева. Содержит в себе:\n",
    "- item - имя предмета (или другой уникальный идентификатор)\n",
    "- count - количество предметов\n",
    "- next - дети текущего узла. Словарь вида `{item: FPNode}`\n",
    "- previous - родитель текущего узла\n",
    "- next_side - указатель на следующий узел этого же предмета.\n",
    "\n",
    "**`RootFPNode`** - Наследуется от FPNode, корень FP дерева.\n",
    "Дополнительно содержит в себе словарь side_nodes вида `{item: (head: [FPNode], tail: [FPNode])`.\n",
    "Для каждого предмета содержит в себе голову и хвост цепочки, состоящей из узлов данного предмета.\n",
    "\n",
    "Метод `insert_transaction` вставляет транзакцию в дерево."
   ]
  },
  {
   "cell_type": "code",
   "execution_count": 46,
   "metadata": {
    "pycharm": {
     "name": "#%%\n"
    }
   },
   "outputs": [],
   "source": [
    "# Node of FP Tree\n",
    "class FPNode:\n",
    "    def __init__(self, item):\n",
    "        self.item = item\n",
    "        self.count = 0\n",
    "        self.next = {} # Children of current node\n",
    "        self.previous = None # Parent of current node\n",
    "        self.next_side = None # Pointer to the next node of same item\n",
    "\n",
    "    # Return child of current node for given item. Create new node if missing\n",
    "    def get_or_create(self, item):\n",
    "        if item not in self.next:\n",
    "            self.next[item] = FPNode(item)\n",
    "            self.next[item].previous = self\n",
    "            return self.next[item], True\n",
    "        else:\n",
    "            return self.next[item], False\n",
    "\n",
    "# Root node. Also contains pointers to the first node of given item\n",
    "class RootFPNode(FPNode):\n",
    "    def __init__(self):\n",
    "        super().__init__(None)\n",
    "        self.side_nodes = {}\n",
    "\n",
    "    def add_side_node(self, node):\n",
    "        # Create new node if not found\n",
    "        if node.item not in self.side_nodes:\n",
    "            self.side_nodes[node.item] = (node, node) # first node is head, last is tail\n",
    "        # Add given node to the end of the chain\n",
    "        else:\n",
    "            head, tail = self.side_nodes[node.item]\n",
    "            tail.next_side = node\n",
    "            self.side_nodes[node.item] = (head, tail.next_side)\n",
    "\n",
    "    # Add transaction. Recursively traverse the tree from top to bottom.\n",
    "    def insert_transaction(self, transaction, count = 1):\n",
    "        current_node = self\n",
    "        for item in transaction:\n",
    "            current_node, created = current_node.get_or_create(item)\n",
    "            current_node.count += count\n",
    "            if created:\n",
    "                self.add_side_node(current_node)\n",
    "\n",
    "# \"List\" that always returns 1.\n",
    "class OneList:\n",
    "    def __getitem__(self, item):\n",
    "        return 1"
   ]
  },
  {
   "cell_type": "markdown",
   "metadata": {
    "pycharm": {
     "name": "#%% md\n"
    }
   },
   "source": [
    "#### Реализация FP-Growth\n",
    "##### build_fp_tree\n",
    "Принимает датасет, минимальную поддержку и количество раз, которая каждая тразнакция встречается.\n",
    "Используется при рекурсивном построении деревьев, по умолчанию 1.\n",
    "\n",
    "Подсчет каждого предмета, сортировка списка предметов и сортировка предметов в транзакции происходят в данном\n",
    "методе перед построением дерева.\n",
    "\n",
    "На выход возвращается указатель на голову дерева, а также список предметов с количеством встреч этих предметов\n",
    "\n",
    "##### fp_conditional_base\n",
    "Строит FP Conditional Base из дерева. На вход принимает голову дерева и список предметов (который вернулся методом\n",
    " `build_fp_tree`).\n",
    "Проходит по списку предметов снизу вверх. Для каждого предмета проходит слева направо по ссылкам `FPNode::next_side`\n",
    "и сохраняет пройденные пути вместе со значением count у листа."
   ]
  },
  {
   "cell_type": "code",
   "execution_count": 47,
   "metadata": {
    "pycharm": {
     "name": "#%%\n"
    }
   },
   "outputs": [],
   "source": [
    "# Build the FP tree\n",
    "def build_fp_tree(data, minsup, frequency = None):\n",
    "    # If no transactions are given, return None\n",
    "    if len(data) == 0:\n",
    "        return None, None\n",
    "    # If frequency list is not given (for first iteration), use OneList\n",
    "    if frequency is None:\n",
    "        frequency = OneList()\n",
    "\n",
    "    # Count items\n",
    "    L = defaultdict(int)\n",
    "    for idx, transaction in enumerate(data):\n",
    "        for item in transaction:\n",
    "            L[item] += frequency[idx]\n",
    "\n",
    "    # Sort items by count (reversing), filter by support\n",
    "    # (map preserves insertion order)\n",
    "    L = {k: counts for k, counts in sorted(L.items(), key=lambda item: item[1], reverse=True) if counts >= minsup}\n",
    "    map_for_sorting_transactions = {item: idx for idx, item in enumerate(L.keys())}\n",
    "\n",
    "    head = RootFPNode()\n",
    "    # Build tree\n",
    "    for idx, transaction in enumerate(data):\n",
    "        # Filter rare items\n",
    "        transaction_sorted = [k for k in transaction if k in map_for_sorting_transactions]\n",
    "        # Sort items in the same order as L\n",
    "        transaction_sorted = sorted(transaction_sorted, key=lambda k: (map_for_sorting_transactions[k]))\n",
    "        if len(transaction_sorted) == 0:\n",
    "            continue\n",
    "        head.insert_transaction(transaction_sorted, frequency[idx])\n",
    "    return head, L # Return order of items for building conditional base and counts for saving support\n",
    "\n",
    "def fp_conditional_base(tree, item_order):\n",
    "    output = {}\n",
    "    # item_order that was returned from build_fp_tree\n",
    "    for item in reversed(item_order.keys()):\n",
    "        head = tree.side_nodes[item][0]\n",
    "        output[item] = []\n",
    "        while True: # \"do-while\"\n",
    "            # Traverse up\n",
    "            current = head\n",
    "            count = current.count\n",
    "            path = []\n",
    "            while current.previous and current.previous != tree: # Go up while we can\n",
    "                current = current.previous\n",
    "                path.append(current.item)\n",
    "            # Save traversed path\n",
    "            if len(path) > 0:\n",
    "                output[item].append((list(reversed(path)), count))\n",
    "            # Traverse to the side\n",
    "            head = head.next_side\n",
    "            if head is None: #exit condition of \"do-while\"\n",
    "                break\n",
    "    return output"
   ]
  },
  {
   "cell_type": "markdown",
   "metadata": {
    "pycharm": {
     "name": "#%% md\n"
    }
   },
   "source": [
    "##### mine_tree\n",
    "Производит поиск частых наборов в дереве.\n",
    "Содержит в себе рекурсивную функцию `mine_tree_internal`, которая принимает текущее дерево, текущий префикс и\n",
    "порядок предметов item_order, возвращенный функцией `build_fp_tree`.\n",
    "\n",
    "Изначально фукнция `mine_tree_internal` вызывается для начального fp дерева и с пустым префиксом. После чего строится\n",
    "conditional base. Далее, итеративно, проходим по всем предметам из `item_order`, создаем копию префикса и добавляем\n",
    "туда текущий предмет. Префикс сохраняем как частый набор.\n",
    "Если в conditional base для текущего предмета есть сохраненные пути, для этих путей строится новое дерево и\n",
    "рекурсивно вызывается функция `mine_tree_inernal` с текущим префиксом и новым деревом.\n"
   ]
  },
  {
   "cell_type": "code",
   "execution_count": 48,
   "metadata": {
    "pycharm": {
     "name": "#%%\n"
    }
   },
   "outputs": [],
   "source": [
    "def mine_tree(tree, item_order, minsup):\n",
    "    frequent_sets = []\n",
    "\n",
    "    def mine_tree_internal(tree, prefix, item_order):\n",
    "        conditional_base = fp_conditional_base(tree, item_order)\n",
    "        for item, counts in item_order.items():\n",
    "            # Add current item to prefix and save it as new common set\n",
    "            new_freq_set = prefix.copy()\n",
    "            new_freq_set.add(item)\n",
    "            frequent_sets.append((new_freq_set, counts))\n",
    "            #If conditional base has for current item has \"transactions\"\n",
    "            if len(conditional_base[item]) > 0:\n",
    "                transactions, frequencies = zip(*(conditional_base[item]))\n",
    "                # Build another tree\n",
    "                conditional_tree, new_order = build_fp_tree(transactions, minsup, frequencies)\n",
    "                # Mine it recursively\n",
    "                mine_tree_internal(conditional_tree, new_freq_set, new_order)\n",
    "    mine_tree_internal(tree, set(), item_order)\n",
    "\n",
    "    return frequent_sets\n",
    "\n",
    "\n",
    "def fp_growth(data, minsup):\n",
    "    # Use item count instead of percentage as support, for convenience\n",
    "    minsup = len(data) * minsup\n",
    "    head, item_order = build_fp_tree(data, minsup)\n",
    "    frequent_sets = mine_tree(head, item_order, minsup)\n",
    "    # Match it with format of other algorithms\n",
    "    output = defaultdict(set)\n",
    "    for s, counts in frequent_sets:\n",
    "        output[len(s)].add((frozenset(s), counts))\n",
    "    return dict(output)\n",
    "\n",
    "\n",
    "\n",
    "dummy_data = [frozenset(('I2', 'I1', 'I5')), frozenset(('I2', 'I4')), frozenset(('I2', 'I3')),\n",
    "              frozenset(('I2', 'I1', 'I4')), frozenset(('I1', 'I3')), frozenset(('I2', 'I3')),\n",
    "              frozenset(('I1', 'I3')), frozenset(('I2', 'I1', 'I3', 'I5')), frozenset(('I2', 'I1', 'I3')),\n",
    "              frozenset(('I6',)) ]\n",
    "\n",
    "frequent_sets = fp_growth(dummy_data, 0.2)"
   ]
  },
  {
   "cell_type": "markdown",
   "metadata": {
    "pycharm": {
     "name": "#%% md\n"
    }
   },
   "source": [
    "Проверка на то, что алгоритмы возвращают одинаковые наборы."
   ]
  },
  {
   "cell_type": "code",
   "execution_count": 49,
   "metadata": {
    "pycharm": {
     "name": "#%%\n"
    }
   },
   "outputs": [
    {
     "data": {
      "text/plain": "True"
     },
     "execution_count": 49,
     "metadata": {},
     "output_type": "execute_result"
    }
   ],
   "source": [
    "f1 = apriori(data1, 0.05)\n",
    "f2 = eclat(data1, 0.05)\n",
    "f3 = fp_growth(data1, 0.05)\n",
    "f2 == f2 == f3"
   ]
  },
  {
   "cell_type": "markdown",
   "metadata": {
    "pycharm": {
     "name": "#%% md\n"
    }
   },
   "source": [
    "### Примеры частых наборов"
   ]
  },
  {
   "cell_type": "code",
   "execution_count": 86,
   "metadata": {
    "pycharm": {
     "name": "#%%\n"
    }
   },
   "outputs": [
    {
     "data": {
      "text/plain": "{(frozenset({'other vegetables', 'whole milk', 'yogurt'}), 280),\n (frozenset({'rolls/buns', 'soda', 'whole milk'}), 254),\n (frozenset({'other vegetables', 'rolls/buns', 'whole milk'}), 320),\n (frozenset({'other vegetables', 'soda', 'whole milk'}), 270),\n (frozenset({'other vegetables', 'rolls/buns', 'soda'}), 205),\n (frozenset({'rolls/buns', 'whole milk', 'yogurt'}), 257),\n (frozenset({'other vegetables', 'tropical fruit', 'whole milk'}), 197),\n (frozenset({'other vegetables', 'sausage', 'whole milk'}), 196),\n (frozenset({'bottled water', 'other vegetables', 'whole milk'}), 219),\n (frozenset({'soda', 'whole milk', 'yogurt'}), 212),\n (frozenset({'other vegetables', 'rolls/buns', 'yogurt'}), 204)}"
     },
     "execution_count": 86,
     "metadata": {},
     "output_type": "execute_result"
    }
   ],
   "source": [
    "common_sets_example = fp_growth(data2, 0.05)\n",
    "common_sets_example[3]"
   ]
  },
  {
   "cell_type": "markdown",
   "metadata": {
    "pycharm": {
     "name": "#%% md\n"
    }
   },
   "source": [
    "### Сравнение скорости\n",
    "Сравнение происходит на самом большом из имеющихся датасете T40I10D100K\n",
    "\n",
    "Тестирование производится поддержках от 0.20 до 0.01 с шагом -0.01. Если алгоритм на текущем значении поддержки работал\n",
    "дольше 5 минут, он исключается из тестирования.\n",
    "\n",
    "Условие `apriori_result == eclat_result == fp_result` ожидаемо перестает выполняться когда исключается алгоритм Apriori\n"
   ]
  },
  {
   "cell_type": "code",
   "execution_count": 92,
   "metadata": {
    "pycharm": {
     "name": "#%% Benchmark\n"
    }
   },
   "outputs": [
    {
     "name": "stdout",
     "output_type": "stream",
     "text": [
      "Support - 0.20\n",
      "\tApriori: Time - 28.3s\n",
      "\tEclat: Time - 23.1s\n",
      "\tFP: Time - 1.4s\n",
      "\tOK\n",
      "Support - 0.19\n",
      "\tApriori: Time - 28.1s\n",
      "\tEclat: Time - 22.8s\n",
      "\tFP: Time - 1.4s\n",
      "\tOK\n",
      "Support - 0.18\n",
      "\tApriori: Time - 28.6s\n",
      "\tEclat: Time - 22.9s\n",
      "\tFP: Time - 1.4s\n",
      "\tOK\n",
      "Support - 0.17\n",
      "\tApriori: Time - 30.0s\n",
      "\tEclat: Time - 23.0s\n",
      "\tFP: Time - 1.5s\n",
      "\tOK\n",
      "Support - 0.16\n",
      "\tApriori: Time - 32.0s\n",
      "\tEclat: Time - 23.1s\n",
      "\tFP: Time - 1.6s\n",
      "\tOK\n",
      "Support - 0.15\n",
      "\tApriori: Time - 33.0s\n",
      "\tEclat: Time - 23.1s\n",
      "\tFP: Time - 1.7s\n",
      "\tOK\n",
      "Support - 0.14\n",
      "\tApriori: Time - 36.6s\n",
      "\tEclat: Time - 23.2s\n",
      "\tFP: Time - 2.0s\n",
      "\tOK\n",
      "Support - 0.13\n",
      "\tApriori: Time - 48.5s\n",
      "\tEclat: Time - 24.2s\n",
      "\tFP: Time - 13.0s\n",
      "\tOK\n",
      "Support - 0.12\n",
      "\tApriori: Time - 67.7s\n",
      "\tEclat: Time - 26.0s\n",
      "\tFP: Time - 7.9s\n",
      "\tOK\n",
      "Support - 0.11\n",
      "\tApriori: Time - 92.3s\n",
      "\tEclat: Time - 26.6s\n",
      "\tFP: Time - 10.9s\n",
      "\tOK\n",
      "Support - 0.10\n",
      "\tApriori: Time - 138.6s\n",
      "\tEclat: Time - 27.8s\n",
      "\tFP: Time - 13.7s\n",
      "\tOK\n",
      "Support - 0.09\n",
      "\tApriori: Time - 223.8s\n",
      "\tEclat: Time - 28.4s\n",
      "\tFP: Time - 18.7s\n",
      "\tOK\n",
      "Support - 0.08\n",
      "\tApriori: Time - 313.7s\n",
      "\tEclat: Time - 30.1s\n",
      "\tFP: Time - 25.4s\n",
      "\tOK\n",
      "Support - 0.07\n",
      "\tEclat: Time - 34.3s\n",
      "\tFP: Time - 30.9s\n",
      "Support - 0.06\n",
      "\tEclat: Time - 39.0s\n",
      "\tFP: Time - 40.1s\n",
      "Support - 0.05\n",
      "\tEclat: Time - 45.4s\n",
      "\tFP: Time - 49.8s\n",
      "Support - 0.04\n",
      "\tEclat: Time - 53.0s\n",
      "\tFP: Time - 59.7s\n",
      "Support - 0.03\n",
      "\tEclat: Time - 66.7s\n",
      "\tFP: Time - 72.9s\n",
      "Support - 0.02\n",
      "\tEclat: Time - 89.3s\n",
      "\tFP: Time - 88.9s\n",
      "Support - 0.01\n",
      "\tEclat: Time - 1970.4s\n",
      "\tFP: Time - 224.5s\n"
     ]
    }
   ],
   "source": [
    "apriori_times = {}\n",
    "eclat_times = {}\n",
    "fp_times = {}\n",
    "last_apriori_time = 0\n",
    "last_eclat_time = 0\n",
    "last_fp_time = 0\n",
    "\n",
    "def run_benchmark(algorithm, dataset, support):\n",
    "    start = time.time()\n",
    "    result = algorithm(dataset, support)\n",
    "    return time.time() - start, result\n",
    "\n",
    "apriori_result = None\n",
    "eclat_result = None\n",
    "fp_result = None\n",
    "\n",
    "for support in range(20, 0, -1):\n",
    "    support = support / 100\n",
    "    print(f\"Support - {support:.2f}\")\n",
    "    if last_apriori_time < 300: # 5 minutes\n",
    "        last_apriori_time, apriori_result = run_benchmark(apriori, data3, support)\n",
    "        apriori_times[support] = last_apriori_time\n",
    "        print(f\"\\tApriori: Time - {last_apriori_time:.1f}s\")\n",
    "\n",
    "    if last_eclat_time < 300: # 5 minutes\n",
    "        last_eclat_time, eclat_result = run_benchmark(eclat, data3, support)\n",
    "        eclat_times[support] = last_eclat_time\n",
    "        print(f\"\\tEclat: Time - {last_eclat_time:.1f}s\")\n",
    "\n",
    "    if last_fp_time < 300: # 5 minutes\n",
    "        last_fp_time, fp_result = run_benchmark(fp_growth, data3, support)\n",
    "        fp_times[support] = last_fp_time\n",
    "        print(f\"\\tFP: Time - {last_fp_time:.1f}s\")\n",
    "\n",
    "    if apriori_result == eclat_result == fp_result:\n",
    "        print(\"\\tOK\")"
   ]
  },
  {
   "cell_type": "markdown",
   "metadata": {
    "pycharm": {
     "name": "#%% md\n"
    }
   },
   "source": [
    "#### Визуализация времени работы"
   ]
  },
  {
   "cell_type": "code",
   "execution_count": 93,
   "metadata": {
    "pycharm": {
     "name": "#%%\n"
    }
   },
   "outputs": [
    {
     "data": {
      "text/plain": "<matplotlib.legend.Legend at 0x2342c56c910>"
     },
     "execution_count": 93,
     "metadata": {},
     "output_type": "execute_result"
    },
    {
     "data": {
      "text/plain": "<Figure size 432x288 with 1 Axes>",
      "image/png": "[encoded data removed]"
     },
     "metadata": {
      "needs_background": "light"
     },
     "output_type": "display_data"
    }
   ],
   "source": [
    "_, ax = plt.subplots()\n",
    "ax.plot(*zip(*apriori_times.items()), label='apriori')\n",
    "ax.plot(*zip(*eclat_times.items()), label='ECLAT')\n",
    "ax.plot(*zip(*fp_times.items()), label='FP-Growth')\n",
    "ax.set_ylim(0, 300)\n",
    "\n",
    "ax.set_ylabel(\"Seconds\")\n",
    "ax.set_xlabel(\"Support\")\n",
    "ax.legend()"
   ]
  },
  {
   "cell_type": "markdown",
   "source": [
    "### Остальная статистика\n",
    "Использовался датасет T40I10D100K и алгоритм FP-Growth.\n",
    "Значения поддержки от 0.20 до 0.01 с шагом -0.01.\n",
    "\n",
    "Сохраняем частые наборы для разных значений поддержки"
   ],
   "metadata": {
    "collapsed": false,
    "pycharm": {
     "name": "#%% md\n"
    }
   }
  },
  {
   "cell_type": "code",
   "execution_count": 53,
   "outputs": [
    {
     "name": "stdout",
     "output_type": "stream",
     "text": [
      "support: 0.01\r\n"
     ]
    }
   ],
   "source": [
    "frequent_sets = {}\n",
    "for support in range(20, 0, -1):\n",
    "    support = support / 100\n",
    "    frequent_sets[support] = fp_growth(data3, support)\n",
    "    print(f\"support: {support:.2f}\", end='\\r')\n",
    "print()"
   ],
   "metadata": {
    "collapsed": false,
    "pycharm": {
     "name": "#%%\n"
    }
   }
  },
  {
   "cell_type": "markdown",
   "source": [
    "#### Подсчет и визуализация количества частых наборов в зависимости от значения поддержки\n"
   ],
   "metadata": {
    "collapsed": false
   }
  },
  {
   "cell_type": "code",
   "execution_count": 79,
   "outputs": [
    {
     "data": {
      "text/plain": "<matplotlib.legend.Legend at 0x2341de90d00>"
     },
     "execution_count": 79,
     "metadata": {},
     "output_type": "execute_result"
    },
    {
     "data": {
      "text/plain": "<Figure size 432x288 with 1 Axes>",
      "image/png": "[encoded data removed]"
     },
     "metadata": {
      "needs_background": "light"
     },
     "output_type": "display_data"
    }
   ],
   "source": [
    "frequent_sets_counts = {}\n",
    "\n",
    "for support in range(20, 0, -1):\n",
    "    support = support / 100\n",
    "    sets = frequent_sets[support]\n",
    "    frequent_sets_counts[support] = sum(map(lambda x: len(x[1]), sets.items()))\n",
    "\n",
    "\n",
    "_, ax = plt.subplots()\n",
    "ax.plot(*zip(*frequent_sets_counts.items()), label='Number of frequent sets')\n",
    "ax.set_ylabel(\"Count\")\n",
    "ax.set_xlabel(\"Support\")\n",
    "ax.set_xticks(np.arange(0, 0.22, 0.02))\n",
    "ax.set_ylim(0, 3000)\n",
    "ax.legend()"
   ],
   "metadata": {
    "collapsed": false,
    "pycharm": {
     "name": "#%%\n"
    }
   }
  },
  {
   "cell_type": "markdown",
   "source": [
    "### Подсчет и визуализация максимальной длины набора в зависимости от значения поддержки"
   ],
   "metadata": {
    "collapsed": false
   }
  },
  {
   "cell_type": "code",
   "execution_count": 73,
   "outputs": [
    {
     "data": {
      "text/plain": "<matplotlib.legend.Legend at 0x2341cbdb700>"
     },
     "execution_count": 73,
     "metadata": {},
     "output_type": "execute_result"
    },
    {
     "data": {
      "text/plain": "<Figure size 432x288 with 1 Axes>",
      "image/png": "[encoded data removed]"
     },
     "metadata": {
      "needs_background": "light"
     },
     "output_type": "display_data"
    }
   ],
   "source": [
    "frequent_sets_max_length = {}\n",
    "\n",
    "for support in range(20, 0, -1):\n",
    "    support = support / 100\n",
    "    sets = frequent_sets[support]\n",
    "    frequent_sets_max_length[support] = max(map(lambda x: float(x[0]), sets.items()))\n",
    "\n",
    "\n",
    "_, ax = plt.subplots()\n",
    "ax.plot(*zip(*frequent_sets_max_length.items()), label='Max length of frequent set')\n",
    "ax.set_ylabel(\"Max length\")\n",
    "ax.set_xlabel(\"Support\")\n",
    "ax.set_xticks(np.arange(0, 0.22, 0.02))\n",
    "ax.legend()"
   ],
   "metadata": {
    "collapsed": false,
    "pycharm": {
     "name": "#%%\n"
    }
   }
  },
  {
   "cell_type": "markdown",
   "source": [
    "### Подсчет и визуализация количества частых наборов объектов различной длины в зависимости от значения поддержки"
   ],
   "metadata": {
    "collapsed": false,
    "pycharm": {
     "name": "#%% md\n"
    }
   }
  },
  {
   "cell_type": "code",
   "execution_count": 80,
   "outputs": [
    {
     "data": {
      "text/plain": "<Figure size 864x720 with 4 Axes>",
      "image/png": "[encoded data removed]"
     },
     "metadata": {
      "needs_background": "light"
     },
     "output_type": "display_data"
    }
   ],
   "source": [
    "_, axes = plt.subplots(2, 2, figsize=(12, 10))\n",
    "for idx, count in enumerate([1,2,3,4]):\n",
    "    frequent_sets_counts = {}\n",
    "\n",
    "    for support in range(20, 0, -1):\n",
    "        support = support / 100\n",
    "        if count in frequent_sets[support]:\n",
    "            sets = frequent_sets[support][count]\n",
    "        else:\n",
    "            sets = {}\n",
    "        frequent_sets_counts[support] = len(sets)\n",
    "\n",
    "    ax = axes[idx // 2, idx % 2]\n",
    "    ax.plot(*zip(*frequent_sets_counts.items()), label='Max length of frequent set')\n",
    "    ax.set_ylabel(\"Max length\")\n",
    "    ax.set_xlabel(\"Support\")\n",
    "    ax.set_ylim(0, 1000)\n",
    "    ax.set_xticks(np.arange(0, 0.22, 0.04))\n",
    "    ax.legend()\n",
    "    ax.set_title(f\"{count} items\")"
   ],
   "metadata": {
    "collapsed": false,
    "pycharm": {
     "name": "#%%\n"
    }
   }
  }
 ],
 "metadata": {
  "kernelspec": {
   "display_name": "Python 3",
   "language": "python",
   "name": "python3"
  },
  "language_info": {
   "codemirror_mode": {
    "name": "ipython",
    "version": 3
   },
   "file_extension": ".py",
   "mimetype": "text/x-python",
   "name": "python",
   "nbconvert_exporter": "python",
   "pygments_lexer": "ipython3",
   "version": "3.8.2"
  }
 },
 "nbformat": 4,
 "nbformat_minor": 1
}